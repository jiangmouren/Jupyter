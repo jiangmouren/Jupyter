{
 "cells": [
  {
   "cell_type": "code",
   "execution_count": 3,
   "id": "214b0bb4",
   "metadata": {},
   "outputs": [
    {
     "name": "stdout",
     "output_type": "stream",
     "text": [
      "{'glenak': ['sahamm', 'dclowe', 'mayoun', 'mihirpat', 'cmoses', 'steve', 'ajassy']}\n",
      "{'glenak': 'sahamm'}\n",
      "['Barrister' 'Shoehorn' 'Isengard']\n"
     ]
    }
   ],
   "source": [
    "import pandas as pd\n",
    "import json\n",
    "\n",
    "# Function to safely parse the string representation of a list of dictionaries\n",
    "def parse_management_chain(chain_str):\n",
    "    try:\n",
    "        # Convert the string representation to a list of dictionaries\n",
    "        chain = json.loads(chain_str.replace(\"'\", \"\\\"\"))\n",
    "        return [item['S'] for item in chain]  # Extracting the 'S' value from each dictionary in the list\n",
    "    except:\n",
    "        return []  # In case of parsing error, return an empty list\n",
    "\n",
    "def main():\n",
    "    # Load the CSV file\n",
    "    file_path = 'C:/Users/jiang/Desktop/events.csv'  # Replace with your file path\n",
    "    df = pd.read_csv(file_path)\n",
    "\n",
    "    # Apply the parsing function to each row in the 'management_chain' column\n",
    "    df['management_chain_parsed'] = df['management_chain'].apply(parse_management_chain)\n",
    "\n",
    "    # Create a dictionary with 'user_id' as keys and 'management_chain_parsed' as values\n",
    "    user_management_dict = pd.Series(df.management_chain_parsed.values, index=df.user_id).to_dict()\n",
    "    user_manager_dict = pd.Series(df.manager_id.values, index=df.user_id).to_dict()\n",
    "    event_types = df['event_type'].unique()\n",
    "\n",
    "    return user_management_dict, user_manager_dict, event_types\n",
    "\n",
    "# Call the main function and get the dictionary\n",
    "user_management_chain, user_manager_dict, event_types = main()\n",
    "print(user_management_chain)\n",
    "print(user_manager_dict)\n",
    "print(event_types)\n"
   ]
  },
  {
   "cell_type": "code",
   "execution_count": 8,
   "id": "bee9ccb0",
   "metadata": {},
   "outputs": [
    {
     "name": "stdout",
     "output_type": "stream",
     "text": [
      "    user_id                        Reason Tooling UseCase\n",
      "0  acarladd                         Other                \n",
      "1  acarladd  Tooling down or did not work  Timber        \n",
      "2  acarladd                         Other                \n",
      "3   hdeluna                         Other                \n"
     ]
    }
   ],
   "source": [
    "# Function to parse the \"form_input\" field and extract \"reason\", \"tooling\", and \"useCase\"\n",
    "def parse_form_input(input_str):\n",
    "    try:\n",
    "        # Convert the string representation to a dictionary\n",
    "        input_dict = json.loads(input_str)\n",
    "        # Extract the required fields\n",
    "        reason = input_dict.get('reason', {}).get('S', '')\n",
    "        tooling = input_dict.get('tooling', {}).get('S', '')\n",
    "        use_case = input_dict.get('useCase', {}).get('S', '')\n",
    "        return reason, tooling, use_case\n",
    "    except json.JSONDecodeError:\n",
    "        return '', '', ''  # Return empty strings in case of parsing error\n",
    "\n",
    "def main():\n",
    "    # Load the CSV file\n",
    "    file_path = 'C:/Users/jiang/Desktop/logs.csv'  # Replace with your file path\n",
    "    df = pd.read_csv(file_path)\n",
    "\n",
    "    # Apply the parsing function to each row in the 'form_input' column\n",
    "    parsed_data = df['form_input'].apply(parse_form_input)\n",
    "\n",
    "    # Convert the resulting series of tuples into a DataFrame\n",
    "    parsed_df = pd.DataFrame(parsed_data.tolist(), columns=['Reason', 'Tooling', 'UseCase'])\n",
    "    user_df = df['user_id']\n",
    "    \n",
    "    result = pd.concat([user_df, parsed_df], axis=1)\n",
    "\n",
    "    return result\n",
    "\n",
    "# Call the main function and display the first few rows of the parsed data\n",
    "result = main()\n",
    "print(result.head())"
   ]
  },
  {
   "cell_type": "code",
   "execution_count": null,
   "id": "b66fd911",
   "metadata": {},
   "outputs": [],
   "source": []
  }
 ],
 "metadata": {
  "kernelspec": {
   "display_name": "Python 3 (ipykernel)",
   "language": "python",
   "name": "python3"
  },
  "language_info": {
   "codemirror_mode": {
    "name": "ipython",
    "version": 3
   },
   "file_extension": ".py",
   "mimetype": "text/x-python",
   "name": "python",
   "nbconvert_exporter": "python",
   "pygments_lexer": "ipython3",
   "version": "3.9.12"
  }
 },
 "nbformat": 4,
 "nbformat_minor": 5
}
